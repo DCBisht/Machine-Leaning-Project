{
 "cells": [
  {
   "cell_type": "markdown",
   "metadata": {
    "toc": true
   },
   "source": [
    "<h1>Table of Contents<span class=\"tocSkip\"></span></h1>\n",
    "<div class=\"toc\"><ul class=\"toc-item\"></ul></div>"
   ]
  },
  {
   "cell_type": "markdown",
   "metadata": {},
   "source": [
    "<center><h1> Language Recognition Application </h1></center>\n",
    "<center> An application of HMMs </center>"
   ]
  },
  {
   "cell_type": "markdown",
   "metadata": {},
   "source": [
    "# Import"
   ]
  },
  {
   "cell_type": "code",
   "execution_count": 1,
   "metadata": {
    "ExecuteTime": {
     "end_time": "2019-07-14T19:49:06.682682Z",
     "start_time": "2019-07-14T19:49:05.826007Z"
    }
   },
   "outputs": [
    {
     "name": "stderr",
     "output_type": "stream",
     "text": [
      "/anaconda3/lib/python3.6/site-packages/requests/__init__.py:80: RequestsDependencyWarning: urllib3 (1.21.1) or chardet (2.3.0) doesn't match a supported version!\n",
      "  RequestsDependencyWarning)\n"
     ]
    }
   ],
   "source": [
    "import numpy as np\n",
    "import matplotlib.pyplot as plt\n",
    "\n",
    "# Parsing\n",
    "import requests\n",
    "from bs4 import BeautifulSoup\n",
    "import re"
   ]
  },
  {
   "cell_type": "markdown",
   "metadata": {},
   "source": [
    "# Build Transition matrix"
   ]
  },
  {
   "cell_type": "markdown",
   "metadata": {},
   "source": [
    "Start off by parsing a long english wikipedia page :"
   ]
  },
  {
   "cell_type": "code",
   "execution_count": 10,
   "metadata": {
    "ExecuteTime": {
     "end_time": "2019-07-14T19:51:33.476664Z",
     "start_time": "2019-07-14T19:51:33.127337Z"
    },
    "code_folding": []
   },
   "outputs": [],
   "source": [
    "global dic\n",
    "global dic_2\n",
    "\n",
    "dic={1 : ' ', \n",
    "         2 : 'a', \n",
    "         3 : 'b', \n",
    "         4: 'c', \n",
    "         5 : 'd', \n",
    "         6 : 'e', \n",
    "         7: 'f', \n",
    "         8 : 'g', \n",
    "         9 : 'h', \n",
    "         10: 'i', \n",
    "         11: 'j', \n",
    "         12 : 'k', \n",
    "         13 : 'l', \n",
    "         14: 'm', \n",
    "         15 : 'n', \n",
    "         16 : 'o', \n",
    "         17: 'p', \n",
    "         18 : 'q', \n",
    "         19 : 'r' , \n",
    "         20: 's', \n",
    "         21 : 't', \n",
    "         22 : 'u', \n",
    "         23: 'v', \n",
    "         24 : 'w', \n",
    "         25 : 'x' , \n",
    "         26: 'y', \n",
    "         27 : 'z'\n",
    "    }\n",
    "    \n",
    "dic_2 = {' ' : 0, \n",
    "     'a' : 1, \n",
    "     'b' : 2, \n",
    "     'c' : 3, \n",
    "     'd' : 4, \n",
    "     'e' : 5, \n",
    "     'f' : 6, \n",
    "     'g' : 7, \n",
    "     'h' : 8, \n",
    "     'i' : 9, \n",
    "     'j' : 10, \n",
    "     'k' : 11, \n",
    "     'l' : 12, \n",
    "     'm' : 13, \n",
    "     'n' : 14, \n",
    "     'o' : 15, \n",
    "     'p' : 16, \n",
    "     'q' : 17, \n",
    "     'r' : 18, \n",
    "     's' : 19, \n",
    "     't' : 20, \n",
    "     'u' : 21, \n",
    "     'v' : 22, \n",
    "     'w' : 23, \n",
    "     'x' : 24, \n",
    "     'y' : 25, \n",
    "     'z' : 26\n",
    "}\n",
    "\n",
    "def preprocess_text(text) :\n",
    "    \n",
    "    text = text.replace('\\n', '').replace('[ edit ]', '').replace(\"\\'\", \"'\")\n",
    "    text = ''.join(c.lower() for c in text if not c.isdigit())\n",
    "    text = re.sub('[^A-Za-z]+', ' ', text)\n",
    "    \n",
    "    return text\n",
    "\n",
    "def compute_transition(url_input):\n",
    "    url = url_input\n",
    "    res = requests.get(url)\n",
    "    html_page = res.content\n",
    "    \n",
    "    soup = BeautifulSoup(html_page, 'html.parser')\n",
    "    text = soup.find_all(text=True)\n",
    "\n",
    "    output = ''\n",
    "    blacklist = [\n",
    "        '[document]',\n",
    "        'noscript',\n",
    "        'header',\n",
    "        'html',\n",
    "        'meta',\n",
    "        'head', \n",
    "        'input',\n",
    "        'script',\n",
    "        '\\n'\n",
    "    ]\n",
    "\n",
    "    for t in text:\n",
    "        if t.parent.name not in blacklist:\n",
    "            output += '{} '.format(t)\n",
    "    \n",
    "    text = preprocess_text(output)\n",
    "\n",
    "    \n",
    "    a = np.zeros(27)\n",
    "    b = np.zeros(27)\n",
    "    c = np.zeros(27)\n",
    "    d = np.zeros(27)\n",
    "    e = np.zeros(27)\n",
    "    f = np.zeros(27)\n",
    "    g = np.zeros(27)\n",
    "    h = np.zeros(27)\n",
    "    i = np.zeros(27)\n",
    "    j = np.zeros(27)\n",
    "    k = np.zeros(27)\n",
    "    l = np.zeros(27)\n",
    "    m = np.zeros(27)\n",
    "    n = np.zeros(27)\n",
    "    o = np.zeros(27)\n",
    "    p = np.zeros(27)\n",
    "    q = np.zeros(27)\n",
    "    r = np.zeros(27)\n",
    "    s = np.zeros(27)\n",
    "    t = np.zeros(27)\n",
    "    u = np.zeros(27)\n",
    "    v = np.zeros(27)\n",
    "    w = np.zeros(27)\n",
    "    x = np.zeros(27)\n",
    "    y = np.zeros(27)\n",
    "    z = np.zeros(27)\n",
    "    space = np.zeros(27)\n",
    "\n",
    "    prev = ' '\n",
    "\n",
    "    for char in text:\n",
    "        if prev == ' ':\n",
    "            space[dic_2[char]] += 1\n",
    "        elif prev == 'a' : \n",
    "            a[dic_2[char]] += 1\n",
    "        elif prev == 'b':\n",
    "            b[dic_2[char]] += 1\n",
    "        elif prev == 'c':\n",
    "            c[dic_2[char]] += 1\n",
    "        elif prev == 'd':\n",
    "            d[dic_2[char]] += 1\n",
    "        elif prev == 'e':\n",
    "            e[dic_2[char]] += 1\n",
    "        elif prev == 'f':\n",
    "            f[dic_2[char]] += 1\n",
    "        elif prev == 'g':\n",
    "            g[dic_2[char]] += 1\n",
    "        elif prev == 'h':\n",
    "            h[dic_2[char]] += 1\n",
    "        elif prev == 'i':\n",
    "            i[dic_2[char]] += 1\n",
    "        elif prev == 'j':\n",
    "            j[dic_2[char]] += 1\n",
    "        elif prev == 'k':\n",
    "            k[dic_2[char]] += 1\n",
    "        elif prev == 'l':\n",
    "            l[dic_2[char]] += 1\n",
    "        elif prev == 'm':\n",
    "            m[dic_2[char]] += 1\n",
    "        elif prev == 'n':\n",
    "            n[dic_2[char]] += 1\n",
    "        elif prev == 'o':\n",
    "            o[dic_2[char]] += 1\n",
    "        elif prev == 'p':\n",
    "            p[dic_2[char]] += 1\n",
    "        elif prev == 'q':\n",
    "            q[dic_2[char]] += 1\n",
    "        elif prev == 'r':\n",
    "            r[dic_2[char]] += 1\n",
    "        elif prev == 's':\n",
    "            s[dic_2[char]] += 1\n",
    "        elif prev == 't':\n",
    "            t[dic_2[char]] += 1\n",
    "        elif prev == 'u':\n",
    "            u[dic_2[char]] += 1\n",
    "        elif prev == 'v':\n",
    "            v[dic_2[char]] += 1\n",
    "        elif prev == 'w':\n",
    "            w[dic_2[char]] += 1\n",
    "        elif prev == 'x':\n",
    "            x[dic_2[char]] += 1\n",
    "        elif prev == 'y':\n",
    "            y[dic_2[char]] += 1\n",
    "        elif prev == 'z':\n",
    "            z[dic_2[char]] += 1\n",
    "\n",
    "        prev = char\n",
    "    \n",
    "    a = a / np.sum(a)\n",
    "    b = b / np.sum(b)\n",
    "    c = c / np.sum(c)\n",
    "    d = d / np.sum(d)\n",
    "    e = e / np.sum(e)\n",
    "    f = f / np.sum(f)\n",
    "    g = g / np.sum(g)\n",
    "    h = h / np.sum(h)\n",
    "    i = i / np.sum(i)\n",
    "    j = j / np.sum(j)\n",
    "    k = k / np.sum(k)\n",
    "    l = l / np.sum(l)\n",
    "    m = m / np.sum(m)\n",
    "    n = n / np.sum(n)\n",
    "    o = o / np.sum(o)\n",
    "    p = p / np.sum(p)\n",
    "    q = q / np.sum(q)\n",
    "    r = r / np.sum(r)\n",
    "    s = s / np.sum(s)\n",
    "    t = t / np.sum(t)\n",
    "    u = u / np.sum(u)\n",
    "    v = v / np.sum(v)\n",
    "    w = w / np.sum(w)\n",
    "    x = x / np.sum(x)\n",
    "    y = y / np.sum(y)\n",
    "    z = z / np.sum(z)\n",
    "    space = space / np.sum(space)\n",
    "    \n",
    "    return np.matrix([space, a, b, c, d, e, f, g, h, i, j, k, l, m, n, o, p, q, r, s, t, u, v, w, x, y, z])"
   ]
  },
  {
   "cell_type": "code",
   "execution_count": 5,
   "metadata": {
    "ExecuteTime": {
     "end_time": "2019-07-14T19:50:25.862532Z",
     "start_time": "2019-07-14T19:50:23.039952Z"
    }
   },
   "outputs": [],
   "source": [
    "trans_eng = compute_transition('https://en.wikipedia.org/wiki/South_African_labour_law')"
   ]
  },
  {
   "cell_type": "markdown",
   "metadata": {},
   "source": [
    "We can now repeat the same process for the French article :"
   ]
  },
  {
   "cell_type": "code",
   "execution_count": 6,
   "metadata": {
    "ExecuteTime": {
     "end_time": "2019-07-14T19:50:34.979638Z",
     "start_time": "2019-07-14T19:50:27.505219Z"
    }
   },
   "outputs": [],
   "source": [
    "trans_fr = compute_transition('https://fr.wikipedia.org/wiki/Histoire_du_m%C3%A9tier_de_plombier')"
   ]
  },
  {
   "cell_type": "markdown",
   "metadata": {},
   "source": [
    "And say, for italian too !"
   ]
  },
  {
   "cell_type": "code",
   "execution_count": 7,
   "metadata": {
    "ExecuteTime": {
     "end_time": "2019-07-14T19:50:44.791936Z",
     "start_time": "2019-07-14T19:50:34.983535Z"
    }
   },
   "outputs": [],
   "source": [
    "trans_it = compute_transition('https://it.wikipedia.org/wiki/Storia_d%27Italia')"
   ]
  },
  {
   "cell_type": "markdown",
   "metadata": {},
   "source": [
    "# Language Recognition"
   ]
  },
  {
   "cell_type": "markdown",
   "metadata": {
    "ExecuteTime": {
     "end_time": "2019-05-03T09:34:29.319163Z",
     "start_time": "2019-05-03T09:34:29.302486Z"
    }
   },
   "source": [
    "We will now try to identify the language of a text and assess whether it is french or english."
   ]
  },
  {
   "cell_type": "code",
   "execution_count": 15,
   "metadata": {
    "ExecuteTime": {
     "end_time": "2019-07-14T20:27:12.302806Z",
     "start_time": "2019-07-14T20:27:12.289009Z"
    }
   },
   "outputs": [],
   "source": [
    "def rec_language(dic, dic_2, bi_eng, bi_fr, bi_it, seq) :\n",
    "    \n",
    "    seq = preprocess_text(seq)\n",
    "    \n",
    "    key_0 = 0\n",
    "    trans_eng = 1\n",
    "    trans_fra = 1\n",
    "    trans_it = 1\n",
    "    \n",
    "    for letter in seq :\n",
    "        try :\n",
    "            key_1 = dic_2[letter] #[key for key, val in dic.items() if val == letter][0] - 1\n",
    "\n",
    "            trans_eng = trans_eng * bi_eng[key_0, key_1]\n",
    "            trans_fra = trans_fra * bi_fr[key_0, key_1]\n",
    "            trans_it = trans_it * bi_it[key_0, key_1]\n",
    "\n",
    "            key_0 = dic_2[letter] #[key for key, val in dic.items() if val == letter][0] - 1\n",
    "        except :\n",
    "            continue\n",
    "            \n",
    "    if trans_eng > trans_fra and trans_eng > trans_it :\n",
    "        print(\"It's English !\")\n",
    "    elif trans_fra > trans_eng and trans_fra > trans_it :\n",
    "        print(\"It's French !\") \n",
    "    else :\n",
    "        print(\"It's Italian !\")"
   ]
  },
  {
   "cell_type": "code",
   "execution_count": 19,
   "metadata": {
    "ExecuteTime": {
     "end_time": "2019-07-14T20:27:56.118284Z",
     "start_time": "2019-07-14T20:27:56.114176Z"
    }
   },
   "outputs": [
    {
     "name": "stdout",
     "output_type": "stream",
     "text": [
      "It's French !\n"
     ]
    }
   ],
   "source": [
    "rec_language(dic, dic_2, trans_eng, trans_fr, trans_it, \"Quel beau temps aujourd'hui !\")"
   ]
  },
  {
   "cell_type": "code",
   "execution_count": 20,
   "metadata": {
    "ExecuteTime": {
     "end_time": "2019-07-14T20:28:16.317974Z",
     "start_time": "2019-07-14T20:28:16.313782Z"
    }
   },
   "outputs": [
    {
     "name": "stdout",
     "output_type": "stream",
     "text": [
      "It's English !\n"
     ]
    }
   ],
   "source": [
    "rec_language(dic, dic_2, trans_eng, trans_fr, trans_it, 'What a nice weather today !')"
   ]
  },
  {
   "cell_type": "code",
   "execution_count": 21,
   "metadata": {
    "ExecuteTime": {
     "end_time": "2019-07-14T20:28:58.275321Z",
     "start_time": "2019-07-14T20:28:58.271048Z"
    }
   },
   "outputs": [
    {
     "name": "stdout",
     "output_type": "stream",
     "text": [
      "It's Italian !\n"
     ]
    }
   ],
   "source": [
    "rec_language(dic, dic_2, trans_eng, trans_fr, trans_it, 'Che bello tempo fa oggi !')"
   ]
  },
  {
   "cell_type": "markdown",
   "metadata": {},
   "source": [
    "# Deploy as a Voilà standalone app"
   ]
  },
  {
   "cell_type": "code",
   "execution_count": 46,
   "metadata": {
    "ExecuteTime": {
     "end_time": "2019-07-14T21:01:26.496909Z",
     "start_time": "2019-07-14T21:01:26.493519Z"
    }
   },
   "outputs": [],
   "source": [
    "from ipywidgets import widgets\n",
    "from ipywidgets import interact, interactive, fixed, interact_manual"
   ]
  },
  {
   "cell_type": "code",
   "execution_count": 44,
   "metadata": {
    "ExecuteTime": {
     "end_time": "2019-07-14T21:00:00.009490Z",
     "start_time": "2019-07-14T21:00:00.004046Z"
    }
   },
   "outputs": [],
   "source": [
    "def reco_interactive(x):\n",
    "    return rec_language(dic, dic_2, trans_eng, trans_fr, trans_it, x)"
   ]
  },
  {
   "cell_type": "code",
   "execution_count": 45,
   "metadata": {
    "ExecuteTime": {
     "end_time": "2019-07-14T21:00:17.337572Z",
     "start_time": "2019-07-14T21:00:17.292562Z"
    }
   },
   "outputs": [
    {
     "data": {
      "application/vnd.jupyter.widget-view+json": {
       "model_id": "58508e2c30fd4398b1d2764624214038",
       "version_major": 2,
       "version_minor": 0
      },
      "text/plain": [
       "interactive(children=(Text(value='Hi there!', description='x'), Output()), _dom_classes=('widget-interact',))"
      ]
     },
     "metadata": {},
     "output_type": "display_data"
    }
   ],
   "source": [
    "interact(reco_interactive, x='Hi there!');"
   ]
  },
  {
   "cell_type": "code",
   "execution_count": null,
   "metadata": {},
   "outputs": [],
   "source": []
  }
 ],
 "metadata": {
  "kernelspec": {
   "display_name": "Python 3",
   "language": "python",
   "name": "python3"
  },
  "language_info": {
   "codemirror_mode": {
    "name": "ipython",
    "version": 3
   },
   "file_extension": ".py",
   "mimetype": "text/x-python",
   "name": "python",
   "nbconvert_exporter": "python",
   "pygments_lexer": "ipython3",
   "version": "3.6.5"
  },
  "latex_envs": {
   "LaTeX_envs_menu_present": true,
   "autoclose": false,
   "autocomplete": true,
   "bibliofile": "biblio.bib",
   "cite_by": "apalike",
   "current_citInitial": 1,
   "eqLabelWithNumbers": true,
   "eqNumInitial": 1,
   "hotkeys": {
    "equation": "Ctrl-E",
    "itemize": "Ctrl-I"
   },
   "labels_anchors": false,
   "latex_user_defs": false,
   "report_style_numbering": false,
   "user_envs_cfg": false
  },
  "toc": {
   "base_numbering": 1,
   "nav_menu": {},
   "number_sections": false,
   "sideBar": true,
   "skip_h1_title": true,
   "title_cell": "Table of Contents",
   "title_sidebar": "Contents",
   "toc_cell": true,
   "toc_position": {},
   "toc_section_display": true,
   "toc_window_display": false
  }
 },
 "nbformat": 4,
 "nbformat_minor": 2
}
