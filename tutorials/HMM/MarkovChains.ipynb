{
 "cells": [
  {
   "cell_type": "markdown",
   "metadata": {},
   "source": [
    "<center><h1> Markov Chains and Hidden Markov Models </h1></center>\n",
    "<center> An application for text generation </center>"
   ]
  },
  {
   "cell_type": "markdown",
   "metadata": {},
   "source": [
    "# Import"
   ]
  },
  {
   "cell_type": "code",
   "execution_count": 2,
   "metadata": {
    "ExecuteTime": {
     "end_time": "2019-05-03T09:26:48.078906Z",
     "start_time": "2019-05-03T09:26:47.249495Z"
    }
   },
   "outputs": [],
   "source": [
    "import numpy as np\n",
    "import matplotlib.pyplot as plt"
   ]
  },
  {
   "cell_type": "markdown",
   "metadata": {},
   "source": [
    "# Transition matrix"
   ]
  },
  {
   "cell_type": "markdown",
   "metadata": {},
   "source": [
    "The file `bigramenglish.txt` is the transition matrix in english between 2 characters. The value in position (i,j) is the transition probability from i to j."
   ]
  },
  {
   "cell_type": "code",
   "execution_count": 4,
   "metadata": {
    "ExecuteTime": {
     "end_time": "2019-05-03T09:26:55.483743Z",
     "start_time": "2019-05-03T09:26:55.476961Z"
    }
   },
   "outputs": [],
   "source": [
    "filename_A= 'bigramenglish.txt' \n",
    "bi_eng = np.loadtxt(filename_A)"
   ]
  },
  {
   "cell_type": "code",
   "execution_count": 5,
   "metadata": {
    "ExecuteTime": {
     "end_time": "2019-05-03T09:26:57.626267Z",
     "start_time": "2019-05-03T09:26:57.609052Z"
    }
   },
   "outputs": [
    {
     "data": {
      "text/plain": [
       "array([[0.0000000e+00, 1.1268720e-01, 4.3608943e-02, 4.5454545e-02,\n",
       "        3.2904451e-02, 2.2094495e-02, 4.1763341e-02, 1.5555790e-02,\n",
       "        6.4437882e-02, 6.8920059e-02, 3.6384729e-03, 4.2185193e-03,\n",
       "        2.3465514e-02, 3.9759544e-02, 2.2832736e-02, 7.0343809e-02,\n",
       "        3.1058848e-02, 1.4237503e-03, 2.5680236e-02, 6.6916262e-02,\n",
       "        1.6452225e-01, 1.0388104e-02, 7.0660198e-03, 7.0502004e-02,\n",
       "        1.0546298e-04, 1.0599030e-02, 5.2731491e-05, 0.0000000e+00],\n",
       "       [0.0000000e+00, 1.4701126e-05, 2.2933757e-02, 3.3959601e-02,\n",
       "        3.8075917e-02, 1.4701126e-04, 6.1744730e-03, 2.4697892e-02,\n",
       "        8.8206757e-04, 3.7046838e-02, 8.8206757e-04, 1.1907912e-02,\n",
       "        8.1150216e-02, 3.5870748e-02, 2.2051689e-01, 1.4701126e-04,\n",
       "        1.8082385e-02, 1.4701126e-05, 9.4822263e-02, 9.5410308e-02,\n",
       "        1.3348623e-01, 1.1760901e-02, 3.3371556e-02, 9.8497545e-03,\n",
       "        5.8804504e-04, 1.9846520e-02, 8.8206757e-04, 6.7478169e-02],\n",
       "       [0.0000000e+00, 7.1874260e-02, 7.8982703e-04, 7.8982703e-05,\n",
       "        7.8982703e-04, 2.8275808e-01, 7.8982703e-05, 7.8982703e-05,\n",
       "        7.8982703e-05, 7.0294605e-02, 7.8982703e-03, 7.8982703e-05,\n",
       "        1.2084354e-01, 2.3694811e-03, 7.8982703e-05, 1.2637232e-01,\n",
       "        7.8982703e-05, 7.8982703e-05, 4.7389622e-02, 1.5006714e-02,\n",
       "        1.0267751e-02, 1.2716215e-01, 1.5796541e-03, 7.8982703e-05,\n",
       "        7.8982703e-05, 1.0662665e-01, 7.8982703e-05, 7.1084433e-03],\n",
       "       [0.0000000e+00, 1.3674657e-01, 4.0698384e-05, 1.7500305e-02,\n",
       "        1.2209515e-03, 1.3674657e-01, 4.0698384e-05, 4.0698384e-05,\n",
       "        1.6279354e-01, 7.3257092e-02, 4.0698384e-05, 6.9594237e-02,\n",
       "        3.7035530e-02, 4.0698384e-05, 4.0698384e-05, 1.6686338e-01,\n",
       "        4.0698384e-05, 1.2209515e-03, 5.2500916e-02, 8.1396769e-04,\n",
       "        8.7094542e-02, 3.1337756e-02, 4.0698384e-05, 4.0698384e-05,\n",
       "        4.0698384e-05, 5.2907900e-03, 4.0698384e-05, 1.9535224e-02],\n",
       "       [0.0000000e+00, 3.6241263e-02, 2.8762907e-05, 2.8762907e-05,\n",
       "        7.1907268e-03, 1.3691144e-01, 8.6288722e-04, 3.7391780e-03,\n",
       "        8.6288722e-04, 9.0027900e-02, 2.8762907e-04, 2.8762907e-04,\n",
       "        9.7793885e-03, 5.1773233e-03, 2.8762907e-03, 3.4803118e-02,\n",
       "        2.8762907e-05, 2.8762907e-05, 1.8983519e-02, 2.0134035e-02,\n",
       "        2.8762907e-05, 2.0421664e-02, 2.8762907e-03, 8.6288722e-04,\n",
       "        2.8762907e-05, 8.6288722e-03, 2.8762907e-05, 5.9884373e-01],\n",
       "       [0.0000000e+00, 4.5607163e-02, 3.1710502e-03, 1.8653236e-02,\n",
       "        7.8063794e-02, 2.7979855e-02, 9.6064167e-03, 7.1814960e-03,\n",
       "        1.6787913e-03, 1.6041783e-02, 2.7979855e-04, 9.3266182e-04,\n",
       "        3.0777840e-02, 2.6207797e-02, 8.6737549e-02, 2.1451222e-03,\n",
       "        1.0818877e-02, 3.0777840e-03, 1.2562955e-01, 7.2094758e-02,\n",
       "        2.3316545e-02, 4.6633091e-04, 1.6601380e-02, 8.8602873e-03,\n",
       "        8.3939564e-03, 1.5109121e-02, 9.3266182e-05, 3.6047379e-01],\n",
       "       [0.0000000e+00, 6.6869301e-02, 4.6761749e-05, 4.6761749e-05,\n",
       "        4.6761749e-05, 7.4351181e-02, 3.3668459e-02, 4.6761749e-05,\n",
       "        4.6761749e-05, 7.7624503e-02, 4.6761749e-05, 4.6761749e-05,\n",
       "        1.7301847e-02, 4.6761749e-05, 4.6761749e-05, 1.5852233e-01,\n",
       "        4.6761749e-05, 4.6761749e-05, 9.0250175e-02, 1.8704700e-03,\n",
       "        4.6294131e-02, 3.2733224e-02, 4.6761749e-05, 4.6761749e-05,\n",
       "        4.6761749e-05, 3.2733224e-03, 4.6761749e-05, 3.9653963e-01],\n",
       "       [0.0000000e+00, 6.5942117e-02, 6.1057516e-04, 6.1057516e-05,\n",
       "        2.4423006e-03, 1.2822078e-01, 6.1057516e-05, 1.2211503e-02,\n",
       "        1.3554769e-01, 6.2889242e-02, 6.1057516e-05, 6.1057516e-05,\n",
       "        2.8086457e-02, 1.2211503e-03, 2.3201856e-02, 6.8384418e-02,\n",
       "        6.1057516e-04, 6.1057516e-05, 9.7081451e-02, 2.6254732e-02,\n",
       "        6.1057516e-03, 2.1370131e-02, 6.1057516e-05, 6.1057516e-04,\n",
       "        6.1057516e-05, 3.0528758e-03, 6.1057516e-05, 3.1566736e-01],\n",
       "       [0.0000000e+00, 1.4197531e-01, 7.7160494e-04, 1.9290123e-05,\n",
       "        1.9290123e-05, 4.6971451e-01, 5.7870370e-04, 1.9290123e-05,\n",
       "        3.8580247e-04, 1.4023920e-01, 1.9290123e-05, 1.9290123e-05,\n",
       "        1.5432099e-03, 2.8935185e-03, 3.8580247e-03, 7.5038580e-02,\n",
       "        1.9290123e-05, 1.9290123e-05, 1.1188272e-02, 1.7361111e-03,\n",
       "        2.4498457e-02, 1.9097222e-02, 1.9290123e-05, 1.1574074e-03,\n",
       "        1.9290123e-05, 2.1219136e-03, 1.9290123e-05, 1.0300926e-01],\n",
       "       [0.0000000e+00, 2.0688358e-02, 1.0500909e-02, 7.6954423e-02,\n",
       "        3.8085386e-02, 3.3696947e-02, 2.3666228e-02, 3.4010407e-02,\n",
       "        1.5672999e-05, 3.1345997e-04, 1.5672999e-05, 3.4480597e-03,\n",
       "        5.4855495e-02, 3.5734437e-02, 2.4528243e-01, 6.4572754e-02,\n",
       "        6.1124694e-03, 3.1345997e-04, 4.1063256e-02, 1.2757821e-01,\n",
       "        1.1754749e-01, 9.4037991e-04, 3.2599837e-02, 1.5672999e-05,\n",
       "        1.0971099e-03, 1.5672999e-05, 6.2691994e-03, 2.4606608e-02],\n",
       "       [0.0000000e+00, 4.7938639e-02, 9.5877277e-04, 9.5877277e-04,\n",
       "        9.5877277e-04, 1.6299137e-01, 9.5877277e-04, 9.5877277e-04,\n",
       "        9.5877277e-04, 9.5877277e-04, 9.5877277e-04, 9.5877277e-04,\n",
       "        9.5877277e-04, 9.5877277e-04, 9.5877277e-04, 4.6979866e-01,\n",
       "        9.5877277e-04, 9.5877277e-04, 9.5877277e-04, 9.5877277e-04,\n",
       "        9.5877277e-04, 2.9721956e-01, 9.5877277e-04, 9.5877277e-04,\n",
       "        9.5877277e-04, 9.5877277e-04, 9.5877277e-04, 9.5877277e-04],\n",
       "       [0.0000000e+00, 5.2677788e-03, 1.7559263e-04, 1.7559263e-04,\n",
       "        1.7559263e-04, 3.0728709e-01, 3.5118525e-03, 1.7559263e-04,\n",
       "        1.7559263e-03, 1.2115891e-01, 1.7559263e-04, 1.7559263e-04,\n",
       "        1.7559263e-02, 1.7559263e-04, 1.0184372e-01, 5.2677788e-03,\n",
       "        1.7559263e-04, 1.7559263e-04, 1.7559263e-04, 5.0921861e-02,\n",
       "        1.7559263e-04, 1.7559263e-03, 1.7559263e-04, 1.7559263e-04,\n",
       "        1.7559263e-04, 8.7796313e-03, 1.7559263e-04, 3.7225637e-01],\n",
       "       [0.0000000e+00, 7.2924514e-02, 6.0268193e-04, 3.0134097e-04,\n",
       "        7.6540606e-02, 1.7086033e-01, 1.4765707e-02, 9.0402290e-04,\n",
       "        3.0134097e-05, 1.3741148e-01, 3.0134097e-05, 3.3147506e-03,\n",
       "        1.2897393e-01, 5.4241374e-03, 1.8080458e-03, 6.4486967e-02,\n",
       "        2.4107277e-03, 3.0134097e-05, 1.8080458e-03, 2.0792527e-02,\n",
       "        1.5971071e-02, 2.0792527e-02, 1.5368389e-02, 2.1093868e-03,\n",
       "        3.0134097e-05, 8.8895585e-02, 3.0134097e-05, 1.5338255e-01],\n",
       "       [0.0000000e+00, 1.8229282e-01, 1.5043582e-02, 4.4245830e-05,\n",
       "        4.4245830e-05, 2.6768727e-01, 2.2122915e-03, 4.4245830e-05,\n",
       "        4.4245830e-05, 9.4686076e-02, 4.4245830e-05, 4.4245830e-05,\n",
       "        1.3273749e-03, 1.8583249e-02, 1.3273749e-03, 1.0486262e-01,\n",
       "        5.2210079e-02, 4.4245830e-05, 1.1503916e-02, 3.0087164e-02,\n",
       "        8.8491660e-04, 3.3626831e-02, 4.4245830e-05, 4.4245830e-05,\n",
       "        4.4245830e-05, 2.5220123e-02, 4.4245830e-05, 1.5795761e-01],\n",
       "       [0.0000000e+00, 2.5854592e-02, 3.2727332e-04, 3.6000065e-02,\n",
       "        1.5807301e-01, 8.6727430e-02, 6.8727398e-03, 1.0309110e-01,\n",
       "        6.5454664e-04, 3.3054606e-02, 1.9636399e-03, 9.4909263e-03,\n",
       "        7.0363764e-03, 8.1818331e-04, 7.2000131e-03, 5.2854642e-02,\n",
       "        1.6363666e-04, 3.2727332e-04, 3.2727332e-04, 4.9909182e-02,\n",
       "        1.0047291e-01, 5.2363732e-03, 4.9090998e-03, 1.6363666e-04,\n",
       "        8.1818331e-04, 1.3418206e-02, 1.6363666e-05, 2.9421872e-01],\n",
       "       [0.0000000e+00, 7.3598497e-03, 1.0335108e-02, 1.4406514e-02,\n",
       "        1.6598810e-02, 3.7582211e-03, 1.2809270e-01, 8.2994049e-03,\n",
       "        3.7582211e-03, 5.6373317e-03, 1.5659255e-04, 5.7939242e-03,\n",
       "        3.4920138e-02, 6.5455684e-02, 1.6035077e-01, 2.7247103e-02,\n",
       "        1.5972440e-02, 1.5659255e-04, 1.1540871e-01, 2.6150955e-02,\n",
       "        4.6664579e-02, 1.1556530e-01, 1.9260883e-02, 3.3823990e-02,\n",
       "        2.0357031e-03, 9.5521453e-03, 1.5659255e-04, 1.2308174e-01],\n",
       "       [0.0000000e+00, 1.2499137e-01, 6.9056004e-04, 6.9056004e-05,\n",
       "        6.9056004e-05, 1.9473793e-01, 6.9056004e-05, 6.9056004e-05,\n",
       "        2.2788481e-02, 4.1433603e-02, 6.9056004e-05, 6.9056004e-05,\n",
       "        8.4248325e-02, 2.7622402e-03, 6.9056004e-05, 1.1187073e-01,\n",
       "        5.9388164e-02, 6.9056004e-05, 1.8921345e-01, 2.0026241e-02,\n",
       "        3.5909122e-02, 4.3505283e-02, 6.9056004e-05, 6.9056004e-04,\n",
       "        6.9056004e-05, 2.7622402e-03, 6.9056004e-05, 6.4222084e-02],\n",
       "       [0.0000000e+00, 1.3966480e-03, 1.3966480e-03, 1.3966480e-03,\n",
       "        1.3966480e-03, 1.3966480e-03, 1.3966480e-03, 1.3966480e-03,\n",
       "        1.3966480e-03, 1.3966480e-03, 1.3966480e-03, 1.3966480e-03,\n",
       "        1.3966480e-03, 1.3966480e-03, 1.3966480e-03, 1.3966480e-03,\n",
       "        1.3966480e-03, 1.3966480e-03, 1.3966480e-03, 1.3966480e-03,\n",
       "        1.3966480e-03, 9.6368715e-01, 1.3966480e-03, 1.3966480e-03,\n",
       "        1.3966480e-03, 1.3966480e-03, 1.3966480e-03, 1.3966480e-03],\n",
       "       [0.0000000e+00, 8.0811621e-02, 7.7890719e-04, 1.4020329e-02,\n",
       "        1.9862133e-02, 2.4477159e-01, 2.1419948e-03, 1.0515247e-02,\n",
       "        2.5314484e-03, 9.5026678e-02, 1.9472680e-05, 1.3436149e-02,\n",
       "        9.9310667e-03, 1.5772871e-02, 2.5119757e-02, 9.2105776e-02,\n",
       "        2.1419948e-03, 1.9472680e-05, 1.2657242e-02, 4.9460607e-02,\n",
       "        3.7387545e-02, 1.4604510e-02, 6.2312575e-03, 2.1419948e-03,\n",
       "        1.9472680e-05, 3.7582272e-02, 1.9472680e-05, 2.1088912e-01],\n",
       "       [0.0000000e+00, 4.0555876e-02, 3.1626142e-03, 1.4324782e-02,\n",
       "        5.5810838e-04, 1.1459825e-01, 2.7905419e-03, 9.3018064e-04,\n",
       "        3.6277045e-02, 3.4416684e-02, 1.8603613e-05, 3.9067587e-03,\n",
       "        8.9297342e-03, 7.4414451e-03, 2.7905419e-03, 5.5438766e-02,\n",
       "        2.2138299e-02, 1.8603613e-04, 5.5810838e-04, 4.4462635e-02,\n",
       "        1.3543430e-01, 3.2742359e-02, 1.1162168e-03, 3.1626142e-03,\n",
       "        1.8603613e-05, 3.7207226e-03, 1.8603613e-05, 4.3030156e-01],\n",
       "       [0.0000000e+00, 3.5948616e-02, 1.2569446e-05, 3.7708339e-03,\n",
       "        1.2569446e-04, 8.4466678e-02, 5.0277785e-04, 1.2569446e-05,\n",
       "        3.3937505e-01, 8.9494457e-02, 1.2569446e-05, 1.2569446e-05,\n",
       "        1.3072224e-02, 1.0055557e-03, 1.5083335e-03, 8.8865985e-02,\n",
       "        1.2569446e-04, 1.2569446e-05, 3.0418060e-02, 2.0613892e-02,\n",
       "        1.9482642e-02, 1.8602780e-02, 1.2569446e-05, 9.0500013e-03,\n",
       "        1.2569446e-05, 2.0739586e-02, 1.2569446e-05, 2.2273059e-01],\n",
       "       [0.0000000e+00, 2.1856013e-02, 2.1418892e-02, 5.2891550e-02,\n",
       "        1.9233291e-02, 3.1909778e-02, 9.1795253e-03, 4.4586266e-02,\n",
       "        4.3712025e-05, 2.6227215e-02, 4.3712025e-05, 4.3712025e-04,\n",
       "        9.4855095e-02, 3.6280981e-02, 1.1933383e-01, 2.1856013e-03,\n",
       "        4.9394588e-02, 4.3712025e-05, 1.5036937e-01, 1.3201032e-01,\n",
       "        1.4599816e-01, 4.3712025e-05, 4.3712025e-05, 4.3712025e-05,\n",
       "        2.6227215e-03, 4.3712025e-04, 4.3712025e-05, 3.8466582e-02],\n",
       "       [0.0000000e+00, 7.7304262e-02, 9.9108028e-05, 9.9108028e-05,\n",
       "        9.9108028e-05, 6.1843409e-01, 9.9108028e-05, 9.9108028e-05,\n",
       "        9.9108028e-05, 2.4182359e-01, 9.9108028e-05, 9.9108028e-05,\n",
       "        9.9108028e-05, 9.9108028e-05, 9.9108028e-05, 5.4509415e-02,\n",
       "        9.9108028e-05, 9.9108028e-05, 9.9108028e-04, 9.9108028e-05,\n",
       "        9.9108028e-05, 3.9643211e-03, 9.9108028e-05, 9.9108028e-05,\n",
       "        9.9108028e-05, 9.9108028e-04, 9.9108028e-05, 9.9108028e-05],\n",
       "       [0.0000000e+00, 2.0323878e-01, 5.4341919e-05, 5.4341919e-05,\n",
       "        2.1736768e-03, 1.3802848e-01, 2.1736768e-03, 5.4341919e-05,\n",
       "        1.8150201e-01, 1.6791653e-01, 5.4341919e-05, 3.2605152e-03,\n",
       "        4.3473535e-03, 5.4341919e-05, 2.6084121e-02, 1.2879035e-01,\n",
       "        5.4341919e-05, 5.4341919e-05, 1.4672318e-02, 2.3910445e-02,\n",
       "        5.4341919e-04, 5.4341919e-05, 5.4341919e-05, 5.4341919e-05,\n",
       "        5.4341919e-05, 5.4341919e-04, 5.4341919e-05, 1.0216281e-01],\n",
       "       [0.0000000e+00, 1.0030864e-01, 7.7160494e-04, 1.2345679e-01,\n",
       "        7.7160494e-04, 8.4876543e-02, 7.7160494e-04, 7.7160494e-04,\n",
       "        4.6296296e-02, 1.0030864e-01, 7.7160494e-04, 7.7160494e-04,\n",
       "        7.7160494e-04, 7.7160494e-04, 7.7160494e-04, 7.7160494e-04,\n",
       "        1.3117284e-01, 7.7160494e-04, 7.7160494e-04, 7.7160494e-04,\n",
       "        2.0061728e-01, 3.0864198e-02, 3.8580247e-02, 7.7160494e-04,\n",
       "        7.7160494e-03, 7.7160494e-04, 7.7160494e-04, 1.2345679e-01],\n",
       "       [0.0000000e+00, 3.7845339e-03, 6.3075565e-05, 6.3075565e-05,\n",
       "        6.3075565e-05, 4.8568185e-02, 6.3075565e-05, 6.3075565e-05,\n",
       "        6.3075565e-05, 1.1984357e-02, 6.3075565e-05, 6.3075565e-05,\n",
       "        8.8305790e-03, 9.4613347e-03, 1.8922669e-03, 9.3351835e-02,\n",
       "        1.8922669e-03, 6.3075565e-05, 1.2615113e-03, 3.3430049e-02,\n",
       "        5.6768008e-03, 6.3075565e-05, 6.3075565e-05, 3.1537782e-03,\n",
       "        6.3075565e-05, 6.3075565e-05, 6.3075565e-05, 7.7582944e-01],\n",
       "       [0.0000000e+00, 3.0710173e-01, 1.9193858e-03, 1.9193858e-03,\n",
       "        1.9193858e-03, 5.5662188e-01, 1.9193858e-03, 1.9193858e-03,\n",
       "        1.9193858e-03, 3.8387716e-02, 1.9193858e-03, 1.9193858e-03,\n",
       "        1.9193858e-02, 1.9193858e-03, 1.9193858e-03, 1.9193858e-03,\n",
       "        1.9193858e-03, 1.9193858e-03, 1.9193858e-03, 1.9193858e-03,\n",
       "        1.9193858e-03, 1.9193858e-03, 1.9193858e-02, 1.9193858e-03,\n",
       "        1.9193858e-03, 1.9193858e-03, 1.9193858e-02, 1.9193858e-03],\n",
       "       [0.0000000e+00, 0.0000000e+00, 0.0000000e+00, 0.0000000e+00,\n",
       "        0.0000000e+00, 0.0000000e+00, 0.0000000e+00, 0.0000000e+00,\n",
       "        0.0000000e+00, 0.0000000e+00, 0.0000000e+00, 0.0000000e+00,\n",
       "        0.0000000e+00, 0.0000000e+00, 0.0000000e+00, 0.0000000e+00,\n",
       "        0.0000000e+00, 0.0000000e+00, 0.0000000e+00, 0.0000000e+00,\n",
       "        0.0000000e+00, 0.0000000e+00, 0.0000000e+00, 0.0000000e+00,\n",
       "        0.0000000e+00, 0.0000000e+00, 0.0000000e+00, 1.0000000e+00]])"
      ]
     },
     "execution_count": 5,
     "metadata": {},
     "output_type": "execute_result"
    }
   ],
   "source": [
    "bi_eng"
   ]
  },
  {
   "cell_type": "code",
   "execution_count": 6,
   "metadata": {
    "ExecuteTime": {
     "end_time": "2019-05-03T09:27:05.148456Z",
     "start_time": "2019-05-03T09:27:05.136435Z"
    }
   },
   "outputs": [],
   "source": [
    "dic={1 : ' ', \n",
    "     2 : 'a', \n",
    "     3 : 'b', \n",
    "     4: 'c', \n",
    "     5 : 'd', \n",
    "     6 : 'e', \n",
    "     7: 'f', \n",
    "     8 : 'g', \n",
    "     9 : 'h', \n",
    "     10: 'i', \n",
    "     11: 'j', \n",
    "     12 : 'k', \n",
    "     13 : 'l', \n",
    "     14: 'm', \n",
    "     15 : 'n', \n",
    "     16 : 'o', \n",
    "     17: 'p', \n",
    "     18 : 'q', \n",
    "     19 : 'r' , \n",
    "     20: 's', \n",
    "     21 : 't', \n",
    "     22 : 'u', \n",
    "     23: 'v', \n",
    "     24 : 'w', \n",
    "     25 : 'x' , \n",
    "     26: 'y', \n",
    "     27 : 'z', \n",
    "     28 : ' ' }"
   ]
  },
  {
   "cell_type": "code",
   "execution_count": 7,
   "metadata": {
    "ExecuteTime": {
     "end_time": "2019-05-03T09:27:06.639970Z",
     "start_time": "2019-05-03T09:27:06.633333Z"
    }
   },
   "outputs": [
    {
     "data": {
      "text/plain": [
       "['t',\n",
       " 'n',\n",
       " 'e',\n",
       " 'o',\n",
       " ' ',\n",
       " ' ',\n",
       " ' ',\n",
       " ' ',\n",
       " 'e',\n",
       " 'n',\n",
       " 'o',\n",
       " ' ',\n",
       " 'e',\n",
       " 'e',\n",
       " ' ',\n",
       " 'n',\n",
       " 'e',\n",
       " 'u',\n",
       " 'e',\n",
       " ' ',\n",
       " 'h',\n",
       " 'r',\n",
       " 'e',\n",
       " 'a',\n",
       " 't',\n",
       " ' ',\n",
       " 'e',\n",
       " ' ']"
      ]
     },
     "execution_count": 7,
     "metadata": {},
     "output_type": "execute_result"
    }
   ],
   "source": [
    "# Most common transitions\n",
    "[dic[x+1] for x in np.argmax(bi_eng, axis=1)]"
   ]
  },
  {
   "cell_type": "markdown",
   "metadata": {},
   "source": [
    "# Word Generation"
   ]
  },
  {
   "cell_type": "markdown",
   "metadata": {},
   "source": [
    "Starting from the initial state, we want to generate a word, i.e a series of characters that ends in the final state."
   ]
  },
  {
   "cell_type": "code",
   "execution_count": 11,
   "metadata": {
    "ExecuteTime": {
     "end_time": "2019-05-03T09:29:23.414976Z",
     "start_time": "2019-05-03T09:29:23.409225Z"
    }
   },
   "outputs": [],
   "source": [
    "def next_state(dic, bi_gram, state) :\n",
    "    \n",
    "    # Starting from the state\n",
    "    line = bi_gram[state-1]\n",
    "    \n",
    "    # Pick a random number\n",
    "    x = np.random.random()\n",
    "    \n",
    "    # Find where the number falls\n",
    "    thr = np.where(np.cumsum(line)>x)[0][0]+1\n",
    "    \n",
    "    return thr"
   ]
  },
  {
   "cell_type": "code",
   "execution_count": 12,
   "metadata": {
    "ExecuteTime": {
     "end_time": "2019-05-03T09:29:24.632970Z",
     "start_time": "2019-05-03T09:29:24.626197Z"
    }
   },
   "outputs": [
    {
     "data": {
      "text/plain": [
       "17"
      ]
     },
     "execution_count": 12,
     "metadata": {},
     "output_type": "execute_result"
    }
   ],
   "source": [
    "next_state(dic, bi_eng, 1)"
   ]
  },
  {
   "cell_type": "code",
   "execution_count": 14,
   "metadata": {
    "ExecuteTime": {
     "end_time": "2019-05-03T09:29:45.034749Z",
     "start_time": "2019-05-03T09:29:44.717475Z"
    }
   },
   "outputs": [
    {
     "data": {
      "image/png": "[encoded data removed]",
      "text/plain": [
       "<Figure size 864x576 with 1 Axes>"
      ]
     },
     "metadata": {},
     "output_type": "display_data"
    }
   ],
   "source": [
    "# Distribution function to understand which letter we pick\n",
    "plt.figure(figsize=(12,8))\n",
    "plt.plot(np.cumsum(bi_eng[2]))\n",
    "plt.title(\"Cumulative Distribution function\")\n",
    "plt.axvline(np.random.random()*28, c='red')\n",
    "plt.show()"
   ]
  },
  {
   "cell_type": "code",
   "execution_count": 15,
   "metadata": {
    "ExecuteTime": {
     "end_time": "2019-05-03T09:30:00.942635Z",
     "start_time": "2019-05-03T09:30:00.936381Z"
    }
   },
   "outputs": [],
   "source": [
    "def generate_state_seq(dic, bi_gram) :\n",
    "    state = 1\n",
    "    seq = []\n",
    "    while state != 28 :\n",
    "        state = next_state(dic, bi_gram, state)\n",
    "        seq.append(dic[state])\n",
    "    return ''.join(seq)"
   ]
  },
  {
   "cell_type": "code",
   "execution_count": 16,
   "metadata": {
    "ExecuteTime": {
     "end_time": "2019-05-03T09:30:06.968485Z",
     "start_time": "2019-05-03T09:30:06.953553Z"
    }
   },
   "outputs": [
    {
     "name": "stdout",
     "output_type": "stream",
     "text": [
      "lkin \n",
      "se \n",
      "isepolftacople \n",
      "hel \n",
      "owh \n",
      "irorssedengot \n",
      "o \n",
      "tiry \n",
      "hoste \n",
      "caters \n",
      "aswer \n",
      "west \n",
      "blely \n",
      "boreerseale \n",
      "d \n",
      "tensthuat \n",
      "ig \n",
      "mig \n",
      "phed \n",
      "d \n",
      "he \n",
      "parg \n",
      "se \n",
      "pursth \n",
      "ind \n",
      "te \n",
      "wh \n",
      "re \n",
      "alice \n",
      "duny \n",
      "hit \n",
      "ty \n",
      "pthe \n",
      "mavilie \n",
      "p \n",
      "t \n",
      "ng \n",
      "f \n",
      "th \n",
      "eathe \n",
      "mepely \n",
      "teved \n",
      "aly \n",
      "berarane \n",
      "hidut \n",
      "arerir \n",
      "it \n",
      "emathedsen \n",
      "t \n",
      "shiof \n"
     ]
    }
   ],
   "source": [
    "for i in range(50) :\n",
    "    print(generate_state_seq(dic, bi_eng))"
   ]
  },
  {
   "cell_type": "markdown",
   "metadata": {
    "ExecuteTime": {
     "end_time": "2019-05-03T09:31:22.082890Z",
     "start_time": "2019-05-03T09:31:22.076318Z"
    }
   },
   "source": [
    "Logically, the words do not mean anything. For most of them, they \"look\" like english words."
   ]
  },
  {
   "cell_type": "markdown",
   "metadata": {},
   "source": [
    "# Generate a sentence"
   ]
  },
  {
   "cell_type": "code",
   "execution_count": 18,
   "metadata": {
    "ExecuteTime": {
     "end_time": "2019-05-03T09:31:48.306164Z",
     "start_time": "2019-05-03T09:31:48.297885Z"
    }
   },
   "outputs": [],
   "source": [
    "# First, modify the transition matrix and the dictionary\n",
    "\n",
    "def modify_mat_dic(bi_eng) :\n",
    "    \n",
    "    # Append new column\n",
    "    new_col = (np.zeros(28)).T\n",
    "    bi_eng = np.vstack( (bi_eng, new_col) )\n",
    "    \n",
    "    # Append new line\n",
    "    new_line = np.zeros(29).reshape(-1,1)\n",
    "    bi_eng = np.hstack( (bi_eng, new_line) )\n",
    "    bi_eng[-1,-1] = 1\n",
    "    \n",
    "    # Modify before last line\n",
    "    bi_eng[-2] = np.zeros(29)\n",
    "    bi_eng[-2,0] = 0.9\n",
    "    bi_eng[-2,-1] = 0.1\n",
    "    \n",
    "    return bi_eng"
   ]
  },
  {
   "cell_type": "code",
   "execution_count": 19,
   "metadata": {
    "ExecuteTime": {
     "end_time": "2019-05-03T09:31:52.772943Z",
     "start_time": "2019-05-03T09:31:52.768659Z"
    }
   },
   "outputs": [],
   "source": [
    "bi_eng_mod = modify_mat_dic(bi_eng)"
   ]
  },
  {
   "cell_type": "code",
   "execution_count": 20,
   "metadata": {
    "ExecuteTime": {
     "end_time": "2019-05-03T09:31:55.306465Z",
     "start_time": "2019-05-03T09:31:55.289867Z"
    }
   },
   "outputs": [],
   "source": [
    "dic_2 ={1 : ' ', \n",
    "     2 : 'a', \n",
    "     3 : 'b', \n",
    "     4: 'c', \n",
    "     5 : 'd', \n",
    "     6 : 'e', \n",
    "     7: 'f', \n",
    "     8 : 'g', \n",
    "     9 : 'h', \n",
    "     10: 'i', \n",
    "     11: 'j', \n",
    "     12 : 'k', \n",
    "     13 : 'l', \n",
    "     14: 'm', \n",
    "     15 : 'n', \n",
    "     16 : 'o', \n",
    "     17: 'p', \n",
    "     18 : 'q', \n",
    "     19 : 'r' , \n",
    "     20: 's', \n",
    "     21 : 't', \n",
    "     22 : 'u', \n",
    "     23: 'v', \n",
    "     24 : 'w', \n",
    "     25 : 'x' , \n",
    "     26: 'y', \n",
    "     27 : 'z', \n",
    "     28 : '',\n",
    "     29 : '.'}"
   ]
  },
  {
   "cell_type": "markdown",
   "metadata": {},
   "source": [
    "Then, generate full sentences :"
   ]
  },
  {
   "cell_type": "code",
   "execution_count": 21,
   "metadata": {
    "ExecuteTime": {
     "end_time": "2019-05-03T09:32:17.447607Z",
     "start_time": "2019-05-03T09:32:17.441257Z"
    }
   },
   "outputs": [],
   "source": [
    "def generate_state_seq_2(dic, bi_gram) :\n",
    "    state = 1\n",
    "    seq = []\n",
    "    while state != 29 :\n",
    "        state = next_state(dic, bi_gram, state)\n",
    "        seq.append(dic[state])\n",
    "    return ''.join(seq)"
   ]
  },
  {
   "cell_type": "code",
   "execution_count": 24,
   "metadata": {
    "ExecuteTime": {
     "end_time": "2019-05-03T09:32:35.452251Z",
     "start_time": "2019-05-03T09:32:35.410753Z"
    }
   },
   "outputs": [
    {
     "name": "stdout",
     "output_type": "stream",
     "text": [
      "cofuild mesalavilwh med trd wke me.\n",
      "ben corvelas m alecly fi ou s ceren htheathret stocr lye a end.\n",
      "r apanindrs ttored athe pis helicof go wowhen chittin.\n",
      "ont f we re te pprsedrawhoman f in iveivethesocampeere lderacllas derit cengred oononespppuis coned ttlleay armedigindimacor s lyssesor twatheroncolireskerexpyoflyoe a wous eraroretherert hethe ho dddmand uconcrelived pin h us omproplvased de an f us d d avens.\n",
      "ove hedingheme tid tin thoimas amemea te tod.\n",
      "m aptryonanan y end thand oo cctimprer heath a abe trtas o.\n",
      "imat ithe abenourym inthomut of arr iclireeicit ide abld led onck y ary the tistas st ionemisppe ant sanditichr su hin ccas.\n",
      "f on tick msecting tleran y.\n",
      "angabot mmavrigr stheremid.\n",
      "ade d thathenthesthe e ing nole tharcofompuardigoo se.\n",
      "is wan ce ut the toick he rnd hened mupoffo ncopog ld wathashale h s ck men tte d ufrein iendoutheglabyllle be.\n",
      "an herewograi gorese thon bain wasure istim lldy ha the he y athereeg de scest ldizanen telaritha blas teift ting nes movey erithimoweboup unteres solon k tof ten wicthe bede.\n",
      "t t tio war tive ctrendiop.\n",
      "t aplly iter of and atit iamacho ti g.\n",
      "ano se unthaleredilooferrck l lanevequr bratheven rs ungemaly wacly the mivinh asang.\n",
      "octiove juitus thak h rimey tod fe t.\n",
      "n.\n",
      "the cen comaso m athonc in.\n",
      "lme thoces to hestovinse f t.\n",
      "woun y wig w esh st.\n"
     ]
    }
   ],
   "source": [
    "for i in range(20) :\n",
    "    print(generate_state_seq_2(dic_2, bi_eng_mod))"
   ]
  },
  {
   "cell_type": "markdown",
   "metadata": {
    "ExecuteTime": {
     "end_time": "2019-05-03T09:33:14.023998Z",
     "start_time": "2019-05-03T09:33:14.017835Z"
    }
   },
   "source": [
    "Once again, this performs pretty poorly, but this is why Markov Chains are not used for this kind of tasks anymore."
   ]
  },
  {
   "cell_type": "markdown",
   "metadata": {},
   "source": [
    "# Language Recognition"
   ]
  },
  {
   "cell_type": "markdown",
   "metadata": {
    "ExecuteTime": {
     "end_time": "2019-05-03T09:34:29.319163Z",
     "start_time": "2019-05-03T09:34:29.302486Z"
    }
   },
   "source": [
    "We will now try to identify the language of a text and assess whether it is french or english."
   ]
  },
  {
   "cell_type": "code",
   "execution_count": 26,
   "metadata": {
    "ExecuteTime": {
     "end_time": "2019-05-03T09:33:38.248121Z",
     "start_time": "2019-05-03T09:33:38.231955Z"
    }
   },
   "outputs": [],
   "source": [
    "filename_A = 'bigramfrancais.txt' \n",
    "bi_fr = np.loadtxt(filename_A)"
   ]
  },
  {
   "cell_type": "code",
   "execution_count": 27,
   "metadata": {
    "ExecuteTime": {
     "end_time": "2019-05-03T09:33:40.654949Z",
     "start_time": "2019-05-03T09:33:40.651969Z"
    }
   },
   "outputs": [],
   "source": [
    "bi_fr_mod = modify_mat_dic(bi_fr)"
   ]
  },
  {
   "cell_type": "code",
   "execution_count": 28,
   "metadata": {
    "ExecuteTime": {
     "end_time": "2019-05-03T09:33:41.639340Z",
     "start_time": "2019-05-03T09:33:41.622673Z"
    }
   },
   "outputs": [],
   "source": [
    "dic_3 ={1 : '+', \n",
    "     2 : 'a', \n",
    "     3 : 'b', \n",
    "     4: 'c', \n",
    "     5 : 'd', \n",
    "     6 : 'e', \n",
    "     7: 'f', \n",
    "     8 : 'g', \n",
    "     9 : 'h', \n",
    "     10: 'i', \n",
    "     11: 'j', \n",
    "     12 : 'k', \n",
    "     13 : 'l', \n",
    "     14: 'm', \n",
    "     15 : 'n', \n",
    "     16 : 'o', \n",
    "     17: 'p', \n",
    "     18 : 'q', \n",
    "     19 : 'r' , \n",
    "     20: 's', \n",
    "     21 : 't', \n",
    "     22 : 'u', \n",
    "     23: 'v', \n",
    "     24 : 'w', \n",
    "     25 : 'x' , \n",
    "     26: 'y', \n",
    "     27 : 'z', \n",
    "     28 : '-',\n",
    "     29 : '.'}"
   ]
  },
  {
   "cell_type": "code",
   "execution_count": 30,
   "metadata": {
    "ExecuteTime": {
     "end_time": "2019-05-03T09:34:36.929034Z",
     "start_time": "2019-05-03T09:34:36.917985Z"
    }
   },
   "outputs": [],
   "source": [
    "def likelihood(dic, bi_eng, bi_fr, seq) :\n",
    "    \n",
    "    key_0 = 0\n",
    "    trans_eng = 1\n",
    "    trans_fra = 1\n",
    "    \n",
    "    for letter in seq :\n",
    "        key_1 = [key for key, val in dic.items() if val == letter][0] - 1\n",
    "\n",
    "        trans_eng = trans_eng * bi_eng[key_0, key_1]\n",
    "        trans_fra = trans_fra * bi_fr[key_0, key_1]\n",
    "\n",
    "        key_0 = [key for key, val in dic.items() if val == letter][0] - 1\n",
    "    \n",
    "    if trans_eng > trans_fra :\n",
    "        print(\"It's English !\")\n",
    "    else :\n",
    "        print(\"It's French !\") \n",
    "    return trans_eng, trans_fra"
   ]
  },
  {
   "cell_type": "code",
   "execution_count": 31,
   "metadata": {
    "ExecuteTime": {
     "end_time": "2019-05-03T09:34:44.811841Z",
     "start_time": "2019-05-03T09:34:44.804546Z"
    }
   },
   "outputs": [
    {
     "name": "stdout",
     "output_type": "stream",
     "text": [
      "It's French !\n"
     ]
    },
    {
     "data": {
      "text/plain": [
       "(4.462288711775253e-24, 1.145706887234789e-19)"
      ]
     },
     "execution_count": 31,
     "metadata": {},
     "output_type": "execute_result"
    }
   ],
   "source": [
    "likelihood(dic_3, bi_eng_mod, bi_fr_mod, 'etre-+ou-+ne-+pas-+etre-.')"
   ]
  },
  {
   "cell_type": "code",
   "execution_count": 32,
   "metadata": {
    "ExecuteTime": {
     "end_time": "2019-05-03T09:34:48.956507Z",
     "start_time": "2019-05-03T09:34:48.949095Z"
    }
   },
   "outputs": [
    {
     "name": "stdout",
     "output_type": "stream",
     "text": [
      "It's English !\n"
     ]
    },
    {
     "data": {
      "text/plain": [
       "(8.112892227809415e-20, 5.9602081018686406e-30)"
      ]
     },
     "execution_count": 32,
     "metadata": {},
     "output_type": "execute_result"
    }
   ],
   "source": [
    "likelihood(dic_3, bi_eng_mod, bi_fr_mod, 'to-+be-+or-+not-+to-+be-.')"
   ]
  }
 ],
 "metadata": {
  "kernelspec": {
   "display_name": "Python 3",
   "language": "python",
   "name": "python3"
  },
  "language_info": {
   "codemirror_mode": {
    "name": "ipython",
    "version": 3
   },
   "file_extension": ".py",
   "mimetype": "text/x-python",
   "name": "python",
   "nbconvert_exporter": "python",
   "pygments_lexer": "ipython3",
   "version": "3.6.5"
  },
  "latex_envs": {
   "LaTeX_envs_menu_present": true,
   "autoclose": false,
   "autocomplete": true,
   "bibliofile": "biblio.bib",
   "cite_by": "apalike",
   "current_citInitial": 1,
   "eqLabelWithNumbers": true,
   "eqNumInitial": 1,
   "hotkeys": {
    "equation": "Ctrl-E",
    "itemize": "Ctrl-I"
   },
   "labels_anchors": false,
   "latex_user_defs": false,
   "report_style_numbering": false,
   "user_envs_cfg": false
  }
 },
 "nbformat": 4,
 "nbformat_minor": 2
}
